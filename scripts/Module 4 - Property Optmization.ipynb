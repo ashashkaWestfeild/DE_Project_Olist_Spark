{
 "cells": [
  {
   "cell_type": "markdown",
   "id": "c2e47dbf-51e5-4645-9c47-89dbe9b61b1b",
   "metadata": {},
   "source": [
    "### **Key Considerations for Your Dataproc Cluster**\n",
    "\n",
    "1.  **Cluster Resources:**\n",
    "\n",
    "    -   **Master:** `n2-standard-4` (4 vCPUs, 16 GB RAM, 32GB disk)\n",
    "    -   **Workers (2x):** `n2-standard-4` (4 vCPUs, 16 GB RAM, 64GB disk each)\n",
    "    -   **Total:** 8 worker vCPUs, ~32 GB RAM (excluding master node)\n",
    "2.  **Dataproc Features Disabled:**\n",
    "\n",
    "    -   No **autoscaling**, **Metastore**, **advanced execution layer**, **advanced optimizations**\n",
    "    -   **Storage:** `pd-balanced` (no SSDs, so I/O optimization is crucial)\n",
    "    -   **Networking:** Internal IP **enabled**\n",
    "3.  **Optimization Strategy:**\n",
    "\n",
    "    -   Tune **shuffle partitions**, **broadcast join threshold**, and **storage persistence**\n",
    "    -   Adjust **parallelism** based on **2 workers x 4 cores**\n",
    "    -   Avoid **excessive caching** due to **disk-based storage**"
   ]
  },
  {
   "cell_type": "code",
   "execution_count": null,
   "id": "b2c4b97c-c584-4011-a9a6-5731a750a7ca",
   "metadata": {},
   "outputs": [],
   "source": [
    "# https://spark.apache.org/docs/latest/configuration.html"
   ]
  },
  {
   "cell_type": "code",
   "execution_count": null,
   "id": "719ccde5-cc23-4af3-82ab-1df0d2bcf51e",
   "metadata": {},
   "outputs": [],
   "source": []
  },
  {
   "cell_type": "code",
   "execution_count": 1,
   "id": "f372947c-3ef8-409c-a8b1-939887b4bc46",
   "metadata": {
    "tags": []
   },
   "outputs": [
    {
     "name": "stderr",
     "output_type": "stream",
     "text": [
      "25/05/22 18:28:35 WARN SparkSession: Using an existing Spark session; only runtime SQL configurations will take effect.\n"
     ]
    }
   ],
   "source": [
    "from pyspark.sql import SparkSession\n",
    "\n",
    "spark = SparkSession.builder \\\n",
    "    .appName('Olist Ecommerce Performance Optmization') \\\n",
    "    .config('spark.executor.memory','6g') \\\n",
    "    .config('spark.executor.cores','4') \\\n",
    "    .config('spark.executor.instances','2') \\\n",
    "    .config('spark.driver.memory','4g') \\\n",
    "    .config('spark.driver.maxResultSize','2g') \\\n",
    "    .config('spark.sql.shuffle.partitions','64') \\\n",
    "    .config('spark.default.parallelism','64') \\\n",
    "    .config('spark.sql.adaptive.enabled','true') \\\n",
    "    .config('spark.sql.adaptive.coalescePartition.enabled','true') \\\n",
    "    .config('spark.sql.autoBroadcastJoinThreshold',20*1024*1024) \\\n",
    "    .config('spark.sql.files.maxPartitionBytes','64MB') \\\n",
    "    .config('spark.sql.files.openCostInBytes','2MB') \\\n",
    "    .config('spark.memory.fraction',0.8) \\\n",
    "    .config('spark.memory.storageFraction',0.2) \\\n",
    "    .getOrCreate()"
   ]
  },
  {
   "cell_type": "code",
   "execution_count": 2,
   "id": "a27366a3-7d38-4a09-bd19-29e041cd94d7",
   "metadata": {
    "tags": []
   },
   "outputs": [
    {
     "name": "stderr",
     "output_type": "stream",
     "text": [
      "                                                                                \r"
     ]
    }
   ],
   "source": [
    "# DEFINING PATH\n",
    "\n",
    "hdfs_path = \"/data/olist/\"\n",
    "\n",
    "# Data loading \n",
    "\n",
    "customers_df = spark.read.csv(hdfs_path + \"olist_customers_dataset.csv\", header = True, inferSchema = True)\n",
    "geolocation_df = spark.read.csv(hdfs_path + \"olist_geolocation_dataset.csv\", header = True, inferSchema = True)\n",
    "order_items_df = spark.read.csv(hdfs_path + \"olist_order_items_dataset.csv\", header = True, inferSchema = True)\n",
    "payments_df = spark.read.csv(hdfs_path + \"olist_order_payments_dataset.csv\", header = True, inferSchema = True)\n",
    "reviews_df = spark.read.csv(hdfs_path + \"olist_order_reviews_dataset.csv\", header = True, inferSchema = True)\n",
    "orders_df = spark.read.csv(hdfs_path + \"olist_orders_dataset.csv\", header = True, inferSchema = True)\n",
    "products_df = spark.read.csv(hdfs_path + \"olist_products_dataset.csv\", header = True, inferSchema = True)\n",
    "sellers_df = spark.read.csv(hdfs_path + \"olist_sellers_dataset.csv\", header = True, inferSchema = True)\n",
    "category_translation_df = spark.read.csv(hdfs_path + \"product_category_name_translation.csv\", header = True, inferSchema = True)"
   ]
  },
  {
   "cell_type": "code",
   "execution_count": 3,
   "id": "52798e11-efa6-48c1-959e-bcc02275106a",
   "metadata": {
    "tags": []
   },
   "outputs": [],
   "source": [
    "full_orders_df = spark.read.parquet('/data/olist_proc/full_orders_df_3.parquet')"
   ]
  },
  {
   "cell_type": "code",
   "execution_count": 4,
   "id": "b76dc6ae-a29f-48fd-bfb0-f87f005bd027",
   "metadata": {
    "tags": []
   },
   "outputs": [
    {
     "name": "stdout",
     "output_type": "stream",
     "text": [
      "root\n",
      " |-- order_id: string (nullable = true)\n",
      " |-- customer_id: string (nullable = true)\n",
      " |-- seller_id: string (nullable = true)\n",
      " |-- product_id: string (nullable = true)\n",
      " |-- order_status: string (nullable = true)\n",
      " |-- order_purchase_timestamp: timestamp (nullable = true)\n",
      " |-- order_approved_at: timestamp (nullable = true)\n",
      " |-- order_delivered_carrier_date: timestamp (nullable = true)\n",
      " |-- order_delivered_customer_date: timestamp (nullable = true)\n",
      " |-- order_estimated_delivery_date: timestamp (nullable = true)\n",
      " |-- order_item_id: integer (nullable = true)\n",
      " |-- shipping_limit_date: timestamp (nullable = true)\n",
      " |-- price: double (nullable = true)\n",
      " |-- freight_value: double (nullable = true)\n",
      " |-- product_category_name: string (nullable = true)\n",
      " |-- product_name_lenght: integer (nullable = true)\n",
      " |-- product_description_lenght: integer (nullable = true)\n",
      " |-- product_photos_qty: integer (nullable = true)\n",
      " |-- product_weight_g: integer (nullable = true)\n",
      " |-- product_length_cm: integer (nullable = true)\n",
      " |-- product_height_cm: integer (nullable = true)\n",
      " |-- product_width_cm: integer (nullable = true)\n",
      " |-- seller_zip_code_prefix: integer (nullable = true)\n",
      " |-- seller_city: string (nullable = true)\n",
      " |-- seller_state: string (nullable = true)\n",
      " |-- customer_unique_id: string (nullable = true)\n",
      " |-- customer_zip_code_prefix: integer (nullable = true)\n",
      " |-- customer_city: string (nullable = true)\n",
      " |-- customer_state: string (nullable = true)\n",
      " |-- geolocation_zip_code_prefix: integer (nullable = true)\n",
      " |-- geolocation_lat: double (nullable = true)\n",
      " |-- geolocation_lng: double (nullable = true)\n",
      " |-- geolocation_city: string (nullable = true)\n",
      " |-- geolocation_state: string (nullable = true)\n",
      " |-- review_id: string (nullable = true)\n",
      " |-- review_score: string (nullable = true)\n",
      " |-- review_comment_title: string (nullable = true)\n",
      " |-- review_comment_message: string (nullable = true)\n",
      " |-- review_creation_date: string (nullable = true)\n",
      " |-- review_answer_timestamp: string (nullable = true)\n",
      " |-- payment_sequential: integer (nullable = true)\n",
      " |-- payment_type: string (nullable = true)\n",
      " |-- payment_installments: integer (nullable = true)\n",
      " |-- payment_value: double (nullable = true)\n",
      " |-- is_delivered: integer (nullable = true)\n",
      " |-- is_canceled: integer (nullable = true)\n",
      " |-- order_revenue: double (nullable = true)\n",
      " |-- freight_category: string (nullable = true)\n",
      "\n"
     ]
    }
   ],
   "source": [
    "full_orders_df.printSchema()"
   ]
  },
  {
   "cell_type": "code",
   "execution_count": null,
   "id": "74601140-1573-4632-bac3-74359aadf3d1",
   "metadata": {},
   "outputs": [],
   "source": []
  },
  {
   "cell_type": "markdown",
   "id": "1d63a837-511f-47fe-a3b5-0053f0ab7c84",
   "metadata": {},
   "source": [
    "# Optimized Join Stragies"
   ]
  },
  {
   "cell_type": "code",
   "execution_count": 9,
   "id": "976d0481-c258-4631-b945-3cc2f58cef54",
   "metadata": {
    "tags": []
   },
   "outputs": [],
   "source": [
    "# Broadcast Join\n",
    "\n",
    "from pyspark.sql.functions import *\n",
    "\n",
    "customers_broadcast_df = broadcast(customers_df)\n",
    "\n",
    "optimized_broadcast_join = full_orders_df.join(customers_broadcast_df, 'customer_id')"
   ]
  },
  {
   "cell_type": "code",
   "execution_count": 12,
   "id": "c3195314-2684-41fe-88b8-727debb34cc4",
   "metadata": {
    "tags": []
   },
   "outputs": [],
   "source": [
    "# Sort and Merge Join\n",
    "\n",
    "sorted_customers_df = customers_df.sortWithinPartitions('customer_id')\n",
    "sorted_orders_df = full_orders_df.sortWithinPartitions('order_id')\n",
    "\n",
    "optimized_merge_full_orders_df = sorted_orders_df.join(sorted_customers_df,'customer_id')"
   ]
  },
  {
   "cell_type": "code",
   "execution_count": 13,
   "id": "8af329be-736a-4512-951f-b8ec43099841",
   "metadata": {
    "tags": []
   },
   "outputs": [],
   "source": [
    "# Bucket join \n",
    "\n",
    "bucketed_customers_df = customers_df.repartition(10, 'customer_id')\n",
    "bucketed_orders_df = full_orders_df.repartition(10, 'customer_id')\n",
    "\n",
    "bucket_join_df = bucketed_orders_df.join(bucketed_customers_df, 'customer_id')"
   ]
  },
  {
   "cell_type": "code",
   "execution_count": 16,
   "id": "9f3f7f5c-2a91-4b9f-9256-3bb6d5731fd1",
   "metadata": {
    "tags": []
   },
   "outputs": [],
   "source": [
    "# Join for handling Skewed Partition\n",
    "\n",
    "# .config('spark.sql.adaptive.enabled','true')\n",
    "# .config('spark.sql.adaptive.skewJoin.enabled', 'true')\n",
    "\n",
    "skew_handled_join = full_orders_df.join(customers_df,'customer_id')\n",
    "# skew_handled_join = full_orders_df.join(customers_df.hint('skew'), 'customer_id')"
   ]
  },
  {
   "cell_type": "code",
   "execution_count": null,
   "id": "ac7f26e2-7632-4770-ba3d-4a90a7b418dc",
   "metadata": {},
   "outputs": [],
   "source": []
  },
  {
   "cell_type": "code",
   "execution_count": null,
   "id": "c27301d9-17e1-4712-aeba-7b2e8d6f8559",
   "metadata": {},
   "outputs": [],
   "source": []
  },
  {
   "cell_type": "code",
   "execution_count": 17,
   "id": "9a3eea59-61d1-47c3-a3ec-dd956f0ea533",
   "metadata": {
    "tags": []
   },
   "outputs": [],
   "source": [
    "spark.stop()"
   ]
  },
  {
   "cell_type": "code",
   "execution_count": null,
   "id": "31a76ee3-353d-4c9f-a75a-87a84dd4ec53",
   "metadata": {},
   "outputs": [],
   "source": []
  }
 ],
 "metadata": {
  "kernelspec": {
   "display_name": "PySpark",
   "language": "python",
   "name": "pyspark"
  },
  "language_info": {
   "codemirror_mode": {
    "name": "ipython",
    "version": 3
   },
   "file_extension": ".py",
   "mimetype": "text/x-python",
   "name": "python",
   "nbconvert_exporter": "python",
   "pygments_lexer": "ipython3",
   "version": "3.11.8"
  }
 },
 "nbformat": 4,
 "nbformat_minor": 5
}